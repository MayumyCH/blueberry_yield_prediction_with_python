{
 "cells": [
  {
   "cell_type": "markdown",
   "id": "aa53ce50",
   "metadata": {},
   "source": [
    "# Predicción de rendimientos de Arándanos"
   ]
  },
  {
   "cell_type": "markdown",
   "id": "9e3ea807",
   "metadata": {},
   "source": [
    "![banner_arandano](https://images.theconversation.com/files/304187/original/file-20191128-176618-zrwazf.jpg)\n",
    "\n",
    "_En este proyecto propone dar solución a una de las tareas más desafiantes en el Sector Agricola; el cual es **\"predecir con precisión el rendimiento de los cultivos\"**. En este caso se buscará predecir el rendimiento de arándanos silveltres._\n"
   ]
  },
  {
   "cell_type": "code",
   "execution_count": null,
   "id": "0c4d4032",
   "metadata": {},
   "outputs": [],
   "source": []
  }
 ],
 "metadata": {
  "kernelspec": {
   "display_name": "Python 3",
   "language": "python",
   "name": "python3"
  },
  "language_info": {
   "codemirror_mode": {
    "name": "ipython",
    "version": 3
   },
   "file_extension": ".py",
   "mimetype": "text/x-python",
   "name": "python",
   "nbconvert_exporter": "python",
   "pygments_lexer": "ipython3",
   "version": "3.8.8"
  }
 },
 "nbformat": 4,
 "nbformat_minor": 5
}
